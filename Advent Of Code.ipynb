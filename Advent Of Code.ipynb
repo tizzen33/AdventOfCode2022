{
 "cells": [
  {
   "cell_type": "code",
   "execution_count": 1,
   "id": "bf46c34e",
   "metadata": {},
   "outputs": [
    {
     "name": "stdout",
     "output_type": "stream",
     "text": [
      "72602\n",
      "207410\n"
     ]
    }
   ],
   "source": [
    "# Advent Of Code Day 1\n",
    "\n",
    "total_by_elf = sorted( list(sum(map(int,x.splitlines())) for x in open('input1.txt','r').read().split(\"\\n\\n\")))\n",
    "print(total_by_elf[-1])\n",
    "print(sum(total_by_elf[-3:]))"
   ]
  },
  {
   "cell_type": "code",
   "execution_count": 2,
   "id": "5078fa1e",
   "metadata": {},
   "outputs": [
    {
     "name": "stdout",
     "output_type": "stream",
     "text": [
      "9651\n",
      "10560\n"
     ]
    }
   ],
   "source": [
    "# Advent Of Code Day 2\n",
    "\n",
    "outcome = {\"A X\": [3,\"Z\"], \"B Y\": [3,\"Y\"], \"C Z\": [3,\"X\"], \"A Y\": [6,\"X\"], \"A Z\": [0,\"Y\"], \"B X\": [0,\"X\"], \"B Z\": [6,\"Z\"], \"C X\": [6,\"Y\"],\"C Y\": [0,\"Z\"]}\n",
    "scores = {\"X\": [1,0], \"Y\": [2,3], \"Z\": [3,6]}\n",
    "print(sum([outcome[x][0] + scores[x[-1]][0] for x in open('input2.txt','r').read().split(\"\\n\")]))\n",
    "print(sum([scores[x[-1]][1] + scores[outcome[x][1]][0] for x in open('input2.txt','r').read().split(\"\\n\")]))"
   ]
  },
  {
   "cell_type": "code",
   "execution_count": null,
   "id": "71592913",
   "metadata": {},
   "outputs": [],
   "source": []
  }
 ],
 "metadata": {
  "kernelspec": {
   "display_name": "Python 3",
   "language": "python",
   "name": "python3"
  },
  "language_info": {
   "codemirror_mode": {
    "name": "ipython",
    "version": 3
   },
   "file_extension": ".py",
   "mimetype": "text/x-python",
   "name": "python",
   "nbconvert_exporter": "python",
   "pygments_lexer": "ipython3",
   "version": "3.6.8"
  }
 },
 "nbformat": 4,
 "nbformat_minor": 5
}
